{
 "cells": [
  {
   "cell_type": "markdown",
   "metadata": {},
   "source": [
    "# RAZONES DE CAMBIO\n",
    "## ¿Qué son?\n",
    "\n",
    "### Motivación a las razones de cambio y derivadas\n",
    "\n",
    "Haz clic sobre la imagen para reproducir el video\n",
    "\n",
    "\n",
    "[![IMAGE ALT TEXT HERE](https://img.youtube.com/vi/ipMHBg4XBpw/0.jpg)](https://www.youtube.com/watch?v=ipMHBg4XBpw) "
   ]
  },
  {
   "cell_type": "markdown",
   "metadata": {},
   "source": [
    "Las razones de cambio no son más que, como su nombre lo indica, divisiones entre cambios de variables, por lo general que están relacionadas entre sí. Por ejemplo si se tiene una variable independiente $x$, la cual cambia de $a$ hasta $b$, y una variable dependiente $f$ la cual cambia de $f(a)$ a $f(b)$ la razón de cambio entre ellas se define como sigue.\n",
    "\n",
    "$$\\frac{f(b)-f(a)}{b-a}$$\n",
    "\n",
    "## ¿Para qué las vamos a utilizar?\n",
    "\n",
    "En la administración se emplean para estudiar, por ejemplo, los cambio promedios que sufren las funciones de ingresos, costos, utilidades, entre otras.\n"
   ]
  },
  {
   "cell_type": "markdown",
   "metadata": {
    "solution2": "hidden",
    "solution2_first": true
   },
   "source": [
    "\n",
    "### Ejemplo:\n",
    "Suponga que una empresa tiene modelado sus ingresos $I$ mediante la función \n",
    "\n",
    "$$I(x)=10000x-x^2,$$\n",
    "\n",
    "donde $x$ representa las unidades vendidas. Si en un determinado mes la empresa vende $350$ unidades y en el siguiente logra incrementar la cantidad de unidades vendidas a $400$, ¿Cuántas unidades vendió de más la empresa? ¿Cuál es la diferencia entre el ingreso de los dos meses? ¿Cuánto recibe la empresa, en promedio, por cada una de  las unidades extras vendidas? ¿Qué representa cada uno de los valores obtenidos?"
   ]
  },
  {
   "cell_type": "code",
   "execution_count": 3,
   "metadata": {
    "solution2": "hidden"
   },
   "outputs": [
    {
     "data": {
      "text/plain": [
       "50"
      ]
     },
     "execution_count": 3,
     "metadata": {},
     "output_type": "execute_result"
    }
   ],
   "source": [
    "400-350"
   ]
  },
  {
   "cell_type": "code",
   "execution_count": 7,
   "metadata": {
    "solution2": "hidden"
   },
   "outputs": [
    {
     "data": {
      "text/plain": [
       "462500"
      ]
     },
     "execution_count": 7,
     "metadata": {},
     "output_type": "execute_result"
    }
   ],
   "source": [
    "10000*400-400**2-(10000*350-350**2)\n"
   ]
  },
  {
   "cell_type": "code",
   "execution_count": 11,
   "metadata": {
    "solution2": "hidden"
   },
   "outputs": [
    {
     "data": {
      "text/plain": [
       "9250.0"
      ]
     },
     "execution_count": 11,
     "metadata": {},
     "output_type": "execute_result"
    }
   ],
   "source": [
    "(10000*400-400**2-(10000*350-350**2))/(400-350)"
   ]
  },
  {
   "cell_type": "markdown",
   "metadata": {
    "solution2": "hidden",
    "solution2_first": true
   },
   "source": [
    "### Ejemplo:\n",
    "Vamos a tener en cuenta la función de ingresos del ejemplo anterior, y vamos a responder las mismas preguntas variando únicamente la cantidad vendida en el segundo mes\n",
    "```\n",
    "1. En el segundo mes vende 360\n",
    "2. En el segundo mes vende 355\n",
    "3. En el segundo mes vende 351\n",
    "```"
   ]
  },
  {
   "cell_type": "code",
   "execution_count": 27,
   "metadata": {
    "solution2": "hidden"
   },
   "outputs": [
    {
     "name": "stdout",
     "output_type": "stream",
     "text": [
      "10\n",
      "92900\n",
      "9290.0\n"
     ]
    }
   ],
   "source": [
    "print( 360-350, 10000*360-360**2-(10000*350-350**2),(10000*360-360**2-(10000*350-350**2))/(360-350) ,sep=\"\\n\")"
   ]
  },
  {
   "cell_type": "code",
   "execution_count": 28,
   "metadata": {
    "solution2": "hidden"
   },
   "outputs": [
    {
     "name": "stdout",
     "output_type": "stream",
     "text": [
      "5\n",
      "46475\n",
      "9295.0\n"
     ]
    }
   ],
   "source": [
    " print( 355-350, 10000*355-355**2-(10000*350-350**2), (10000*355-355**2-(10000*350-350**2))/(355-350) ,sep=\"\\n\")"
   ]
  },
  {
   "cell_type": "code",
   "execution_count": 29,
   "metadata": {
    "solution2": "hidden"
   },
   "outputs": [
    {
     "name": "stdout",
     "output_type": "stream",
     "text": [
      "1\n",
      "9299\n",
      "9299.0\n"
     ]
    }
   ],
   "source": [
    "print( 351-350, 10000*351-351**2-(10000*350-350**2), (10000*351-351**2-(10000*350-350**2))/(351-350) ,sep=\"\\n\")"
   ]
  },
  {
   "cell_type": "markdown",
   "metadata": {
    "solution2": "hidden",
    "solution2_first": true
   },
   "source": [
    "Si tuviese sentido decir que las ventas fueron  de $350.5$ unidades (como cuando $x$ representa miles de unidades) ¿cuáles serían las respuestas?"
   ]
  },
  {
   "cell_type": "code",
   "execution_count": 30,
   "metadata": {
    "scrolled": true,
    "solution2": "hidden"
   },
   "outputs": [
    {
     "name": "stdout",
     "output_type": "stream",
     "text": [
      "0.5\n",
      "4649.75\n",
      "9299.5\n"
     ]
    }
   ],
   "source": [
    "print( 350.5-350, 10000*350.5-350.5**2-(10000*350-350**2), (10000*350.5-350.5**2-(10000*350-350**2))/(350.5-350) ,sep=\"\\n\")"
   ]
  },
  {
   "cell_type": "markdown",
   "metadata": {},
   "source": [
    "¿Qué se puede afirmar de la razón de cambio promedio?"
   ]
  },
  {
   "cell_type": "markdown",
   "metadata": {},
   "source": [
    "## Razón de Cambio Instantánea\n",
    "Para medir los cambios entre las variables podemos suponer que $h$ es una cantidad positiva y que la variable $x$ cambia desde $a$ hasta $a+h$, mientras que $f$ varía desde $f(a)$ hasta $f(a+h)$, la razón de cambio se puede ver como\n",
    "\n",
    "$$\\frac{f(a+h)-f(a)}{(a+h)-a}=\\frac{f(a+h)-f(a)}{h}$$\n",
    "\n",
    "Para que la razón de cambio sea instantánea vamos a considerar valores de $h$ *muy* pequeños, es decir\n",
    "$$\\lim\\limits_{h\\to0}\\frac{f(a+h)-f(a)}{h}$$"
   ]
  },
  {
   "cell_type": "markdown",
   "metadata": {},
   "source": [
    "### Ejemplo:\n",
    "Hallemos la razón de cambio instantánea de la función de ingresos \n",
    "$$I(x)=10000x-x^2$$\n"
   ]
  },
  {
   "cell_type": "markdown",
   "metadata": {},
   "source": [
    "Ésta razón de cambio se nota como $I'(x)$, la derivada de $I$ respecto a la variable $x$, ésta función se conoce como **función de ingreso marginal** y representa el ingreso que tendrá la empresa por la siguiente unidad que se venda. \n",
    "\n",
    "De manera análoga se pueden definir las funciones de costo marginal y de utilidad marginal."
   ]
  },
  {
   "cell_type": "markdown",
   "metadata": {},
   "source": [
    "## Manejo algebraico de funciones\n",
    "Un paquete el cual será muy aprovechado durante el curso es *sympy*, éste permite hacer un acercamiento al álgebra tradicional desde el ordenador.\n",
    "\n",
    "Si no tiene instalado *sympy* lo primero que debe hacerse en el cuaderno es ejecutar en una línea de código el comando:\n",
    "\n",
    "**!pip install sympy**\n",
    "\n",
    "Para luego importarlo al mismo, mediante la orden\n",
    "\n",
    "** from sympy import * **"
   ]
  },
  {
   "cell_type": "code",
   "execution_count": 1,
   "metadata": {},
   "outputs": [],
   "source": [
    "from sympy import * "
   ]
  },
  {
   "cell_type": "markdown",
   "metadata": {},
   "source": [
    "Para definir una variable, la cual se pueda operar como se haría en el papel se debe ejecutar la línea\n",
    "\n",
    "**x=symbols(\"x\")**"
   ]
  },
  {
   "cell_type": "code",
   "execution_count": 2,
   "metadata": {},
   "outputs": [],
   "source": [
    "x=symbols(\"x\")"
   ]
  },
  {
   "cell_type": "code",
   "execution_count": 3,
   "metadata": {},
   "outputs": [
    {
     "data": {
      "text/plain": [
       "2*x"
      ]
     },
     "execution_count": 3,
     "metadata": {},
     "output_type": "execute_result"
    }
   ],
   "source": [
    "x+x"
   ]
  },
  {
   "cell_type": "markdown",
   "metadata": {},
   "source": [
    "Si se desea, por ejemplo definir la función $$f(x)=x^2-x+1$$\n",
    "se puede utilizar la siguiente orden"
   ]
  },
  {
   "cell_type": "code",
   "execution_count": 4,
   "metadata": {},
   "outputs": [],
   "source": [
    "f=x**2-x+1"
   ]
  },
  {
   "cell_type": "markdown",
   "metadata": {},
   "source": [
    "Para hallar el valor de $$f(1)$$ se utiliza la siguiente línea"
   ]
  },
  {
   "cell_type": "code",
   "execution_count": 5,
   "metadata": {},
   "outputs": [
    {
     "data": {
      "text/plain": [
       "1"
      ]
     },
     "execution_count": 5,
     "metadata": {},
     "output_type": "execute_result"
    }
   ],
   "source": [
    "f.subs(x,1)"
   ]
  },
  {
   "cell_type": "code",
   "execution_count": null,
   "metadata": {},
   "outputs": [],
   "source": []
  }
 ],
 "metadata": {
  "kernelspec": {
   "display_name": "Python 3",
   "language": "python",
   "name": "python3"
  },
  "language_info": {
   "codemirror_mode": {
    "name": "ipython",
    "version": 3
   },
   "file_extension": ".py",
   "mimetype": "text/x-python",
   "name": "python",
   "nbconvert_exporter": "python",
   "pygments_lexer": "ipython3",
   "version": "3.7.4"
  }
 },
 "nbformat": 4,
 "nbformat_minor": 4
}
