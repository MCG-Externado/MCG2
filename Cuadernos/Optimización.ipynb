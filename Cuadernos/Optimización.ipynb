{
  "cells": [
    {
      "metadata": {},
      "cell_type": "markdown",
      "source": "# Optimización\nEl objetivo de éste cuaderno es que se realice una pequeña función en la cual se introduzca únicamente la función a optimizar y se realice el proceso en el cual se hallen los puntos críticos y se defina el tipo de éstos (máximos o mínimos).\n\n## Preparación\n ```\n 1. Instalar el paquete sympy.\n 2. Importar el paquete sympy.\n 3. Definir la variable.\n ```\n\n## Algoritmo \n ```\n 1. Definir la función que se desea optimizar.\n 2. Hallar la derivada de la función.\n 3. Halle los puntos críticos de la función.\n 4. Calcule la segunda derivad de la función.\n 5. Evalúe los puntos críticos en la segunda derivada.\n 6. Determine la naturaleza del punto crítico\n ```"
    },
    {
      "metadata": {},
      "cell_type": "markdown",
      "source": "Siguiendo los pasos mencionados anteriormente:"
    },
    {
      "metadata": {
        "trusted": true
      },
      "cell_type": "code",
      "source": "!pip install sympy #Instalamos el paquete",
      "execution_count": 1,
      "outputs": [
        {
          "output_type": "stream",
          "text": "Requirement already satisfied: sympy in /home/nbuser/anaconda3_501/lib/python3.6/site-packages (1.3)\n\u001b[33mWARNING: You are using pip version 19.3.1; however, version 20.0.2 is available.\nYou should consider upgrading via the 'pip install --upgrade pip' command.\u001b[0m\n",
          "name": "stdout"
        }
      ]
    },
    {
      "metadata": {
        "trusted": true
      },
      "cell_type": "code",
      "source": "from sympy import * \ninit_printing() #Con este comando se habilita una mejor opción de visualización de los resultados obtenidos",
      "execution_count": 2,
      "outputs": []
    },
    {
      "metadata": {
        "trusted": true
      },
      "cell_type": "code",
      "source": "x=symbols(\"x\") #Definimos la variable",
      "execution_count": 3,
      "outputs": []
    },
    {
      "metadata": {},
      "cell_type": "markdown",
      "source": "Para que el trabajo futuro sea mucho más sencillo aprenderemos a utilizar de mejor manera los ciclos, y para ello es fundamental la creación de listas de elementos.\n\n## Comando range\nCuando se emplea el comando range(a,b) se crea una lista que desde a hasta b -1 avanzando de uno en uno. Si la lista que se desea crear no es de números enteros se le puede dar el tamaño del salto con una tercera entrada, es decir, range(a,b,salto).  **Todas las entradas deben ser números enteros**\n\n## Ejemplos"
    },
    {
      "metadata": {
        "trusted": true
      },
      "cell_type": "code",
      "source": "lista1=range(1,5)",
      "execution_count": 4,
      "outputs": []
    },
    {
      "metadata": {
        "trusted": true
      },
      "cell_type": "code",
      "source": "lista2=range(1,20,2)",
      "execution_count": 5,
      "outputs": []
    },
    {
      "metadata": {},
      "cell_type": "markdown",
      "source": "## Tamaño de una lista\nPara determinar la cantidad de elementos que tiene una lista existe un comando, *len*.\nLa forma de utilizarlo es la siguiente: **len(cadena)**\n\n### Ejemplos"
    },
    {
      "metadata": {
        "trusted": true
      },
      "cell_type": "code",
      "source": "len(lista1)",
      "execution_count": 6,
      "outputs": [
        {
          "output_type": "execute_result",
          "execution_count": 6,
          "data": {
            "image/png": "[encoded data removed]",
            "text/latex": "$$4$$",
            "text/plain": "4"
          },
          "metadata": {}
        }
      ]
    },
    {
      "metadata": {
        "trusted": true
      },
      "cell_type": "code",
      "source": "len(lista2)",
      "execution_count": 7,
      "outputs": [
        {
          "output_type": "execute_result",
          "execution_count": 7,
          "data": {
            "image/png": "[encoded data removed]",
            "text/latex": "$$10$$",
            "text/plain": "10"
          },
          "metadata": {}
        }
      ]
    },
    {
      "metadata": {},
      "cell_type": "markdown",
      "source": "## Comando append\nÉste comando es muy  útil ya que permite agregar valores a una lista.\n\n## Ejemplo\nDada la siguiente lista"
    },
    {
      "metadata": {
        "trusted": true
      },
      "cell_type": "code",
      "source": "l=[1,5,10,-8,4]\nl",
      "execution_count": 8,
      "outputs": [
        {
          "output_type": "execute_result",
          "execution_count": 8,
          "data": {
            "image/png": "[encoded data removed]",
            "text/latex": "$$\\left [ 1, \\quad 5, \\quad 10, \\quad -8, \\quad 4\\right ]$$",
            "text/plain": "[1, 5, 10, -8, 4]"
          },
          "metadata": {}
        }
      ]
    },
    {
      "metadata": {},
      "cell_type": "markdown",
      "source": "agregar el valor $0$ a la lista"
    },
    {
      "metadata": {
        "trusted": true
      },
      "cell_type": "code",
      "source": "l.append(0)\nl",
      "execution_count": 9,
      "outputs": [
        {
          "output_type": "execute_result",
          "execution_count": 9,
          "data": {
            "image/png": "[encoded data removed]",
            "text/latex": "$$\\left [ 1, \\quad 5, \\quad 10, \\quad -8, \\quad 4, \\quad 0\\right ]$$",
            "text/plain": "[1, 5, 10, -8, 4, 0]"
          },
          "metadata": {}
        }
      ]
    },
    {
      "metadata": {},
      "cell_type": "markdown",
      "source": "## Ciclos\n\nVamos a crear ciclos en los cuales vamos a mostrar todos los elementos de las dos listas anteriores.\n\nRecordemos que la estructura del for es la siguiente:\n\nfor contador in rango:\n    órdenes\n    \n \n## Ejemplos"
    },
    {
      "metadata": {
        "trusted": true
      },
      "cell_type": "code",
      "source": "for i in range(len(lista1)-1):\n    print(\"En la posición \", i ,\"el valor es\",lista1[i])",
      "execution_count": 10,
      "outputs": [
        {
          "output_type": "stream",
          "text": "En la posición  0 el valor es 1\nEn la posición  1 el valor es 2\nEn la posición  2 el valor es 3\n",
          "name": "stdout"
        }
      ]
    },
    {
      "metadata": {
        "trusted": true
      },
      "cell_type": "code",
      "source": "for i in range(len(lista2)-1):\n    print(\"En la posición \", i ,\"el valor es\",lista2[i])",
      "execution_count": 11,
      "outputs": [
        {
          "output_type": "stream",
          "text": "En la posición  0 el valor es 1\nEn la posición  1 el valor es 3\nEn la posición  2 el valor es 5\nEn la posición  3 el valor es 7\nEn la posición  4 el valor es 9\nEn la posición  5 el valor es 11\nEn la posición  6 el valor es 13\nEn la posición  7 el valor es 15\nEn la posición  8 el valor es 17\n",
          "name": "stdout"
        }
      ]
    },
    {
      "metadata": {},
      "cell_type": "markdown",
      "source": "## Funciones\nLas funciones resultan ser muy útiles cuando deseamos repetir procesos sobre valores distintos.\n\nLa definición de las funciones lleva la siguiente estructura\n\n**def** nombre_de_la_función**(**variables,que,se,requieran**):**\n\n    órdenes\n\n**return [Expresión]**\n\nEl nombre de la función debe ser sin espacios y se sugiere no usar nombres de funciones definidas previamente para evitar conflictos.\n\nLas variables deben ser separadas por comas.\n\n### Ejemplo:\nDefiniremos una función que imprima los números pares menores al número introducido."
    },
    {
      "metadata": {
        "trusted": true
      },
      "cell_type": "code",
      "source": "def pares(n):#nótese que hay una única variable ya que nuestro argumento será únicamente el número en el cual vamos a parar\n    if int(n)%2==0: #la función int(n) define a la variable n como un número entero.  La función % es el módulo (residuo de un número al ser dividido entre el otro)\n        for i in range(0,int(n/2)): #Range crea una lista de números enteros en este caso desde el 0 hasta la mitad de n\n            print(i*2)\n    else: #si no se cumple la condición\n        for i in range(0,int((n+1)/2)):\n            print(i*2)\nreturn ",
      "execution_count": 12,
      "outputs": []
    },
    {
      "metadata": {
        "trusted": true
      },
      "cell_type": "code",
      "source": "pares(5)",
      "execution_count": 13,
      "outputs": [
        {
          "output_type": "stream",
          "text": "0\n2\n4\n",
          "name": "stdout"
        }
      ]
    },
    {
      "metadata": {
        "trusted": true
      },
      "cell_type": "code",
      "source": "pares(6)",
      "execution_count": 14,
      "outputs": [
        {
          "output_type": "stream",
          "text": "0\n2\n4\n",
          "name": "stdout"
        }
      ]
    },
    {
      "metadata": {},
      "cell_type": "markdown",
      "source": "### Ejemplo\nDefiniremos una función que halle los ceros de una función arbitraria"
    },
    {
      "metadata": {
        "trusted": true
      },
      "cell_type": "code",
      "source": "def ceros(func):\n    return solve(func)",
      "execution_count": 15,
      "outputs": []
    },
    {
      "metadata": {
        "trusted": true
      },
      "cell_type": "code",
      "source": "ceros(x**3-x)",
      "execution_count": 16,
      "outputs": [
        {
          "output_type": "execute_result",
          "execution_count": 16,
          "data": {
            "image/png": "[encoded data removed]",
            "text/latex": "$$\\left [ -1, \\quad 0, \\quad 1\\right ]$$",
            "text/plain": "[-1, 0, 1]"
          },
          "metadata": {}
        }
      ]
    },
    {
      "metadata": {
        "trusted": true
      },
      "cell_type": "markdown",
      "source": "### Ejemplo\nAhora definiremos una función $f$ que evalúe una función dada en una lista de valores ingresados en una lista $V$."
    },
    {
      "metadata": {
        "trusted": true
      },
      "cell_type": "code",
      "source": "def derivadaenlista(f,V):\n    f1=diff(f) #Calcula la derivada de la función\n    print(\"La derivada de la función es \", f1) # Muestra la derivada de la función\n    R=[]\n    for i in range(len(V)):\n        R.append(f1.subs(x,V[i]))\n    return R",
      "execution_count": 17,
      "outputs": []
    },
    {
      "metadata": {
        "trusted": true
      },
      "cell_type": "code",
      "source": "v=[1,2,40,8,6]",
      "execution_count": 18,
      "outputs": []
    },
    {
      "metadata": {
        "trusted": true
      },
      "cell_type": "code",
      "source": "derivadaenlista(x**4-3*x**2,[0,1,2,3])",
      "execution_count": 19,
      "outputs": [
        {
          "output_type": "stream",
          "text": "La derivada de la función es  4*x**3 - 6*x\n",
          "name": "stdout"
        },
        {
          "output_type": "execute_result",
          "execution_count": 19,
          "data": {
            "image/png": "[encoded data removed]",
            "text/latex": "$$\\left [ 0, \\quad -2, \\quad 20, \\quad 90\\right ]$$",
            "text/plain": "[0, -2, 20, 90]"
          },
          "metadata": {}
        }
      ]
    },
    {
      "metadata": {},
      "cell_type": "markdown",
      "source": "### Comando solve\nEl comando **solve** sirve para resolver ecuaciones las cuales deberán estar igualadas a cero, como por ejemplo\n$$x^2-4=0$$\nmediante el comando \n\nsolve(x**2-4,x).\n\nSi se desea solicionar la ecuación\n$$x^3=x$$\nprimero debe igualarse a cero y se introduce en el comando la parte que contiene las variables\n$$x^3-x=0$$\nintroducimos\n\nsolve(x**3-x,x)"
    },
    {
      "metadata": {},
      "cell_type": "markdown",
      "source": "### Ejercicio\nSigue los pasos para realizar el procedimiento descrito al inicio, se dará una función de prueba la cual después será cambiada por una arbitraria.\n\n1. Defina la función $$f(x)=x^3-x$$\n2. Defina la función *optimizar* mediante el uso de **def optimizar(f):**\n3. Halle la derivada de $f$ y muestre el resultado obtenido\n4. Encuentre los puntos críticos. Guarde la respuesta en un vector llamado *puntoscriticos*.\n5. Encuentre la segunda derivada de $f$ y muestre el resultado obtenido\n6. Haga uso de un for para evaluar la segunda derivada en todos los puntos críticos y así determine su naturaleza.\n\n(ayuda: for i in range(0,len(puntoscriticos)-1):) \n"
    },
    {
      "metadata": {
        "trusted": true
      },
      "cell_type": "code",
      "source": "",
      "execution_count": null,
      "outputs": []
    }
  ],
  "metadata": {
    "kernelspec": {
      "name": "python36",
      "display_name": "Python 3.6",
      "language": "python"
    },
    "language_info": {
      "mimetype": "text/x-python",
      "nbconvert_exporter": "python",
      "name": "python",
      "pygments_lexer": "ipython3",
      "version": "3.6.6",
      "file_extension": ".py",
      "codemirror_mode": {
        "version": 3,
        "name": "ipython"
      }
    }
  },
  "nbformat": 4,
  "nbformat_minor": 2
}