{
  "cells": [
    {
      "metadata": {},
      "cell_type": "markdown",
      "source": "Como primera parte de la evaluación debe resolver calcular las  derivadas parciales que se le indiquen\n\n1. $f(x,y)=4x^2-5xy+2y^2$; $f_{xx},\\ f_{xy},\\ f_{yy}$.\n2. $g(x,y)=e^{3x^2y^5+1}$; $g_x$ y $g_y$.\n3. $h(x,y)=(x+y)ln(4x^6y^7)$; $h_x$ y $h_y$."
    },
    {
      "metadata": {
        "trusted": true
      },
      "cell_type": "code",
      "source": "from sympy import * \nfrom sympy.plotting import *\ninit_printing(use_latex=True)  ",
      "execution_count": 18,
      "outputs": []
    },
    {
      "metadata": {
        "trusted": true
      },
      "cell_type": "code",
      "source": "x = symbols(\"x\")\ny = symbols(\"y\")",
      "execution_count": 6,
      "outputs": []
    },
    {
      "metadata": {},
      "cell_type": "markdown",
      "source": "# Derivadas parciales\nComo antes el comando **diff** será de gran ayuda en la parte computacional, ya que permite calcular derivadas parciales de funciones de doc variables. Por ejemplo si \n\n$$f(x,y)=x^2+y^3$$\npara hallar $f_x$ y $f_y$ basta con digitar el siguinte código"
    },
    {
      "metadata": {
        "trusted": true
      },
      "cell_type": "code",
      "source": "f=x**2+y**3",
      "execution_count": 23,
      "outputs": []
    },
    {
      "metadata": {
        "trusted": true
      },
      "cell_type": "code",
      "source": "dfx=diff(f,x)\ndfx",
      "execution_count": 8,
      "outputs": [
        {
          "output_type": "stream",
          "text": "/home/nbuser/anaconda3_501/lib/python3.6/site-packages/matplotlib/font_manager.py:229: UserWarning: Matplotlib is building the font cache using fc-list. This may take a moment.\n  'Matplotlib is building the font cache using fc-list. '\n",
          "name": "stderr"
        },
        {
          "output_type": "execute_result",
          "execution_count": 8,
          "data": {
            "image/png": "[encoded data removed]",
            "text/latex": "$$2 x$$",
            "text/plain": "2⋅x"
          },
          "metadata": {}
        }
      ]
    },
    {
      "metadata": {
        "trusted": true
      },
      "cell_type": "code",
      "source": "dfy=diff(f,y)\ndfy",
      "execution_count": 9,
      "outputs": [
        {
          "output_type": "execute_result",
          "execution_count": 9,
          "data": {
            "image/png": "[encoded data removed]",
            "text/latex": "$$3 y^{2}$$",
            "text/plain": "   2\n3⋅y "
          },
          "metadata": {}
        }
      ]
    },
    {
      "metadata": {},
      "cell_type": "markdown",
      "source": "Recordemos que la manera en la que se evalúan las funciones de dos variables es la siguiente:"
    },
    {
      "metadata": {
        "trusted": true
      },
      "cell_type": "code",
      "source": "z1=dfx.subs([(x,1),(y,2)])\nz1",
      "execution_count": 10,
      "outputs": [
        {
          "output_type": "execute_result",
          "execution_count": 10,
          "data": {
            "image/png": "[encoded data removed]",
            "text/latex": "$$2$$",
            "text/plain": "2"
          },
          "metadata": {}
        }
      ]
    },
    {
      "metadata": {
        "trusted": true
      },
      "cell_type": "code",
      "source": "z2=dfy.subs([(x,1),(y,2)])\nz2",
      "execution_count": 11,
      "outputs": [
        {
          "output_type": "execute_result",
          "execution_count": 11,
          "data": {
            "image/png": "[encoded data removed]",
            "text/latex": "$$12$$",
            "text/plain": "12"
          },
          "metadata": {}
        }
      ]
    },
    {
      "metadata": {
        "solution2_first": true,
        "solution2": "shown"
      },
      "cell_type": "markdown",
      "source": "# Ejercicio\nCree una función que calcule las primeras derivadas de una función de 2 variables, la cual depende de las variables $x$ y $y$, y las evalúe en un punto dado, como también a la función."
    },
    {
      "metadata": {
        "solution2": "shown",
        "trusted": true
      },
      "cell_type": "code",
      "source": "def derivayevalua(f,a,b):  \n    Df_x=diff(f,x)\n    Df_y=diff(f,y)\n    print(\"El valor de  f(\",a,\",\",b,\")  es:\", f.subs([(x,a),(y,b)]))\n    print(\"El valor de f_x(\",a,\",\",b,\") es:\", Df_x.subs([(x,a),(y,b)]))\n    print(\"El valor de f_y(\",a,\",\",b,\") es:\", Df_y.subs([(x,a),(y,b)]))",
      "execution_count": 35,
      "outputs": []
    },
    {
      "metadata": {
        "solution2": "shown",
        "trusted": true,
        "scrolled": true
      },
      "cell_type": "code",
      "source": "derivayevalua(f,1,2)",
      "execution_count": 36,
      "outputs": [
        {
          "output_type": "stream",
          "text": "El valor de  f( 1 , 2 )  es: 9\nEl valor de f_x( 1 , 2 ) es: 2\nEl valor de f_y( 1 , 2 ) es: 12\n",
          "name": "stdout"
        }
      ]
    },
    {
      "metadata": {},
      "cell_type": "markdown",
      "source": "# Ejercicio\nLa función de producción de cierta empresa está dada por\n$$P=5L + 3L^2 + 4LK + 8K + 6K^2$$\nen donde $L$ es el insumo mano de obra medido en miles de horas-hombre por semana, $K$ es el monto de capital invertido medido en miles de dólares por semana y P\nes la producción semanal en miles de artículos. Determine las productividades marginales cuando $L=10$ y $K=15$ e interprete el resultado."
    },
    {
      "metadata": {},
      "cell_type": "markdown",
      "source": "# Relaciones de demanda\n\n## Productos competitivos y complementarios\n### Ejemplo\nSuponga que hay dos marcas de celulares, marca A y marca B, las cuales son las líderes a nivel mundial en celulares de alta gama. \n\n¿Qué sucede con la demanda de la marca A, si ella aumenta el precio de sus celulares?\n\n*R:* La demanda debería disminuir. Lo mismo ocurriría para la marca B.\n\nEste hecho se puede entender matemáticamente como que la derivada de la demanda de A respecto al precio de A es negativa, lo mismo para el producto de la marca B:\n$$\\frac{\\partial X_A}{\\partial P_A}<0;\\ \\ \\ \\frac{\\partial X_B}{\\partial P_B}<0$$\nEsto es normal que suceda con cualquier producto.\n\n\n¿Qué sucede con la demanda de la marca A si B aumenta su precio?\n\n*R:* La demanda de A debería aumentar cuando B aumente su precio. De manera análoga sucedería con la demanda de B si A aumenta su precio.\n\n$$\\frac{\\partial X_A}{\\partial P_B}>0;\\ \\ \\ \\frac{\\partial X_B}{\\partial P_A}>0$$\nCuando esto sucede se dice que los productos son **COMPETITIVOS**.\n\n### Ejemplo\nSuponga que se tienen dos productos, A el cual es un celular y B el forro protector del mismo.\n\n¿Qué sucede con la demanda de los forros si el precio del celular aumenta?\n\n*R:* Al aumentar el precio de A su demanda disminuye por lo tanto la demanda de B disminuye, es decir\n$$\\frac{\\partial X_A}{\\partial P_B}<0;\\ \\ \\ \\frac{\\partial X_B}{\\partial P_A}<0$$\nCuando esto sucede los productos se dicen **COMPLEMENTARIOS**\n\n\n\n## Ejercicio\nLas demandas $x_A$ y $x_B$ de los productos $A$ y $B$ están dadas por las funciones\n$$x_A= 300 + 5p_B - 7p_A^2;\\ \\ \\ x_B = 250 - 9p_B + 2p_A$$\nen donde $p_A$ y $p_B$ son los precios unitarios de $A$ y $B$, respectivamente. Determine las cuatro funciones de demanda marginal e investigue si los productos $A$ y $B$ son competitivos o complementarios entre sí.\n\n## Elasticidad\nLa elasticidad de la demanda mide que tan sensible es un producto repecto al cambio en el precio.\n\nSi la demanda del producto $A$ depende de los precios $P_A$ y $P_B$ ésta se puede derivar respecto a cualquiera de las los varibles, por lo que es posible calcular dos razones de cambio porcentuales:\n\n1. **Elasticidad de la demanda de A** la cual se define como:\n$$\\eta_{p_A}=\\frac{\\ \\frac{\\partial x_A}{\\partial p_A}\\ }{\\frac{x_A}{p_A}}=\\ \\frac{\\partial x_A}{\\partial p_A}\\frac{p_A}{x_A}$$\n\n2. **Elasticidad de la demanda cruzada de A** la cual se puede ver como:\n$$\\eta_{p_B}=\\frac{\\ \\frac{\\partial x_A}{\\partial p_B}\\ }{\\frac{x_A}{p_B}}=\\ \\frac{\\partial x_A}{\\partial p_B}\\frac{p_B}{x_A}$$\n\nCuando $|\\eta_{p_A}|>1$ el producto se dice elástico, si $|\\eta_{p_A}|<1$ se conoce como inelástico, mientras que $|\\eta_{p_A}|=1$ la demanda se dice unitaria.\n\nPor ejemplo, si $\\eta_{p_A}=-3$ se interpreta como que un aumento del $1\\%$ en el precio implica una caída del $3\\%$ en las ventas del producto.\n\n## Ejercicio\nLa función de demanda del producto A está dada por\n$$x_A = 250 +0.3p_B - 5p^2_A$$\n\nDetermine $\\eta_{p_A}$ y $\\eta_{p_B}$ cuando $p_A = 6$ y $p_B = 50$."
    },
    {
      "metadata": {
        "trusted": true
      },
      "cell_type": "code",
      "source": "",
      "execution_count": null,
      "outputs": []
    }
  ],
  "metadata": {
    "kernelspec": {
      "name": "python36",
      "display_name": "Python 3.6",
      "language": "python"
    },
    "language_info": {
      "mimetype": "text/x-python",
      "nbconvert_exporter": "python",
      "name": "python",
      "pygments_lexer": "ipython3",
      "version": "3.6.6",
      "file_extension": ".py",
      "codemirror_mode": {
        "version": 3,
        "name": "ipython"
      }
    }
  },
  "nbformat": 4,
  "nbformat_minor": 2
}