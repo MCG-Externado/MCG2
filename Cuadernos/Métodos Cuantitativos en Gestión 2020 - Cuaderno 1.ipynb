{
 "cells": [
  {
   "cell_type": "markdown",
   "metadata": {},
   "source": [
    "# Métodos Cuantitavos en Gestión 2020\n",
    "**Universidad Externado de Colombia**\n",
    "\n",
    "*Facultad de Administración de Empresas*\n",
    "\n",
    "*2020-1*\n",
    "\n",
    "Las nuevas herramientas tecnológicas y digitales le han dado un vuelco total a nuestra sociedad. Las facilidades en la comunicación y la superconectividad entre todo el mundo hace que nuestros intereses, gustos y experiencias sean registradas, descritas, fotografiadas y por eso mismo monitoreadas. Así, la toma de decisiones de cualquier organización se fundamenta en sus datos registrados y en la capacidad de procesarlos, por lo tanto, el ejercicio del gerente actual es acertar en sus decisiones de acuerdo con el constante y abrumador cambio en el mundo de hoy.\n",
    "\n",
    "\n",
    "¿Cómo lograr una decisión acertada en un mundo cambiante? No tenemos la respuesta, pero sí sabemos que las herramientas cuantitativas son poderosas para este cometido, de hecho, las grandes iniciativas se soportan sobre bellas construcciones matemáticas, bien sean algoritmos, modelos, métodos, entre otros. La idea de este curso es introducirlos en el uso practico de estas herramientas con ayuda de la tecnología. Nos separamos un poco de la noción tradicional de clase de matemáticas para apreciar la gran magnitud del encanto en esta ciencia y reconocerla como la principal aliada en la toma de nuestras decisiones.\n",
    "\n",
    "El siguiente video del Matemático galardonado con la medalla Fields en 2010 *Cedric Villani* habla un poco de esta sensualidad de las matemáticas y así mismo desmiente la creencia generalizada que confunde la Ciencia Matemática con el Cálculo.\n",
    "\n",
    "[Enlace del video](https://www.ted.com/talks/cedric_villani_what_s_so_sexy_about_math \"Cedric Villani\")"
   ]
  },
  {
   "cell_type": "code",
   "execution_count": 1,
   "metadata": {
    "scrolled": true
   },
   "outputs": [],
   "source": [
    "from IPython.display import HTML"
   ]
  },
  {
   "cell_type": "code",
   "execution_count": 2,
   "metadata": {},
   "outputs": [
    {
     "data": {
      "text/html": [
       "<div style=\"max-width:854px\"><div style=\"position:relative;height:0;padding-bottom:100%\"><iframe src=\"https://embed.ted.com/talks/cedric_villani_what_s_so_sexy_about_math\" width=\"854\" height=\"480\" style=\"position:absolute;left:0;top:0;width:100%;height:100%\" frameborder=\"0\" scrolling=\"no\" allowfullscreen></iframe></div></div>"
      ],
      "text/plain": [
       "<IPython.core.display.HTML object>"
      ]
     },
     "execution_count": 2,
     "metadata": {},
     "output_type": "execute_result"
    }
   ],
   "source": [
    "HTML('<div style=\"max-width:854px\"><div style=\"position:relative;height:0;padding-bottom:100%\"><iframe src=\"https://embed.ted.com/talks/cedric_villani_what_s_so_sexy_about_math\" width=\"854\" height=\"480\" style=\"position:absolute;left:0;top:0;width:100%;height:100%\" frameborder=\"0\" scrolling=\"no\" allowfullscreen></iframe></div></div>')"
   ]
  },
  {
   "cell_type": "markdown",
   "metadata": {},
   "source": [
    "Así mismo, Conrad Wolfram nos sugiere algunos aspectos importantes a tener en cuenta para recrear las metodologías usadas en la enseñanza de las matemáticas:\n",
    "\n",
    "[Enlace del Video](https://www.ted.com/talks/conrad_wolfram_teaching_kids_real_math_with_computers/transcript?language=es \"Conrad Wolfram\")"
   ]
  },
  {
   "cell_type": "code",
   "execution_count": 3,
   "metadata": {},
   "outputs": [
    {
     "data": {
      "text/html": [
       "<div style=\"max-width:854px\"><div style=\"position:relative;height:0;padding-bottom:56.25%\"><iframe src=\"https://embed.ted.com/talks/lang/es/conrad_wolfram_teaching_kids_real_math_with_computers\" width=\"854\" height=\"480\" style=\"position:absolute;left:0;top:0;width:100%;height:100%\" frameborder=\"0\" scrolling=\"no\" allowfullscreen></iframe></div></div>"
      ],
      "text/plain": [
       "<IPython.core.display.HTML object>"
      ]
     },
     "execution_count": 3,
     "metadata": {},
     "output_type": "execute_result"
    }
   ],
   "source": [
    "HTML('<div style=\"max-width:854px\"><div style=\"position:relative;height:0;padding-bottom:56.25%\"><iframe src=\"https://embed.ted.com/talks/lang/es/conrad_wolfram_teaching_kids_real_math_with_computers\" width=\"854\" height=\"480\" style=\"position:absolute;left:0;top:0;width:100%;height:100%\" frameborder=\"0\" scrolling=\"no\" allowfullscreen></iframe></div></div>')"
   ]
  },
  {
   "cell_type": "markdown",
   "metadata": {},
   "source": [
    "# Uso de Jupyter\n",
    "\n",
    "Antes de iniciar nuestro curso es necesario instalar una herramienta que calcule por nosotros. Usaremos Python, un lenguaje de programación con un amplio espectro de utilidades que va desde la solución de simples cálculos matemáticos hasta el desarrollo de aplicaciones web. La distribución que utilizaremos es [Anaconda][1], una plataforma especializada en el aprendizaje automático y la ciencia de los datos y de la plataforma usaremos Jupyter, una aplicación web que permite crear cuadernos interacivos, documentos web editados con texto enriquecido y celdas de ejecución de código. \n",
    "\n",
    "La posibilidad de ejecutar código nos será muy útil para definir algoritmos, procesar datos y visualizar resultados en un mismo documento. \n",
    "\n",
    "\n",
    "[1]: https://www.anaconda.com/distribution/ \"Pincha aquí para descargar Anaconda en tu PC\""
   ]
  },
  {
   "cell_type": "markdown",
   "metadata": {},
   "source": [
    "## Instalación y primer cuaderno\n",
    "\n",
    "Sigue los siguientes pasos para instalar jupyter en tu pc:\n",
    "\n",
    "1. Descargar Anaconda de (https://www.anaconda.com/distribution/), verifica que la descarga corresponda a Python 3.7 y a las condiciones específicas de tu equipo (Windows x64, Windows x32, macOS o Linux)\n",
    "\n",
    "<img src=\"https://raw.githubusercontent.com/Izainea/MCG2/master/InstalandoAnaconda.png\"  width=\"720\" >\n",
    "\n",
    "2. Despúes de instalar Anaconda abrelo y lanza el aplicativo de Jupyter:\n",
    "\n",
    "<img src=\"https://raw.githubusercontent.com/Izainea/MCG2/master/AnacondaOpen.png\" width=\"720\" >\n",
    "\n",
    "3. Jupyter abrirá una pestaña de tu navegador predeterminado, verás algo así:\n",
    "\n",
    "<img src=\"https://github.com/Izainea/MCG2/blob/master/jupyterOpen.png?raw=true\" width=\"720\" >\n",
    "\n",
    "\n",
    "4. En el boton NEW puedes crear un archivo nuevo en Python 3:\n",
    "\n",
    "<img src=\"https://github.com/Izainea/MCG2/blob/master/jupyterNew.png?raw=true\" width=\"320\" >\n",
    "\n",
    "5. Veras un panel como el siguiente, selecciona en la casilla tipo de celda selecciona Markdown, para titular el cuaderno que vas a crear, tambien puedes oprimir [Esc]+[M]:\n",
    "\n",
    "<img src=\"https://github.com/Izainea/MCG2/blob/master/jupyterCode.png?raw=true\" width=\"720\" >\n",
    "\n",
    "6. Después de cambiar el tipo de celda usa el formato Markdown para hacer encabezados del documento, escribes ___# Título___ para el encabezado principal y ___## Subtítulo___ para el encabezado secundario:\n",
    "\n",
    "<img src=\"https://github.com/Izainea/MCG2/blob/master/jupyterFirstCell.png?raw=true\" width=\"720\" >\n",
    "\n",
    "7. Después de escribir oprimes [Shift]+[Enter] para ejecutar la celda y visualizar el resultado final de tu escrito, obtienes:\n",
    "\n",
    "<img src=\"https://github.com/Izainea/MCG2/blob/master/jupyterFirstCell2.png?raw=true\" width=\"720\" >\n",
    "\n",
    "8. Finalmente, para terminar este ejercicio haremos una operación muy simple para verificar el buen funcionamiento del programa, escribimos en la siguiente celda 5+8 y ejecutamos nuevamente con [Shift]+[Enter]:\n",
    "\n",
    "<img src=\"https://github.com/Izainea/MCG2/blob/master/jupyterFirstRun.png?raw=true\" width=\"720\" >"
   ]
  },
  {
   "cell_type": "markdown",
   "metadata": {},
   "source": [
    "## Markdown\n",
    "\n",
    "Markdown es un lenguaje de marcado ligero escrito por John Gruber (https://daringfireball.net/projects/markdown/) que permite convertir texto plano en HTML. Aunque suene muy complicado es un lenguaje muy senciullo de utilizar y está inspirado en la forma de escritura de los correos electrónicos.\n",
    "\n",
    "Veremos a continuación algunas convenciones sencillas de este lenguaje y las aplicaremos en nuestro cuaderno guía:\n",
    "\n",
    "<img src=\"https://www.math.ubc.ca/~pwalls/math-python/img/jupyter/markdown.gif\">\n",
    "*Tomado de: (https://www.math.ubc.ca/~pwalls/math-python/jupyter/markdown/)*"
   ]
  },
  {
   "cell_type": "markdown",
   "metadata": {},
   "source": [
    "### Salidas de texto\n",
    "En la siguiente tabla resumimos algunas convenciones importantes para la escritura de documentos en Markdown:\n",
    "\n",
    "| **Escrituta en Celda**| **Salida** |\n",
    "|:---:|:---:|\n",
    "|`Escritura normal` | Escritura normal|\n",
    "|`*énfasis*`| *énfasis*| \n",
    "|`** texto fuerte **` | ** texto fuerte ** |\n",
    "|``código`` |`código` |\n",
    "\n",
    "\n",
    "\n",
    "  "
   ]
  },
  {
   "cell_type": "markdown",
   "metadata": {},
   "source": [
    "### Creación de listas\n",
    " \n",
    " Tambien podemos crear listas, tanto numeradas como no numeradas:\n",
    " \n",
    " \n",
    "  **Numeradas**:\n",
    "     \n",
    "         ``` \n",
    "         1. Primer elemento\n",
    "             1. Primero del primero\n",
    "         2. Segundo elemento\n",
    "         3. Tercer elemento\n",
    "         ```\n",
    " \n",
    "  1. Primer elemento\n",
    "        1. Primero del primero\n",
    "  2. Segundo elemento\n",
    "  3. Tercer elemento\n",
    " \n",
    " \n",
    " \n",
    " \n",
    " \n",
    "  **NO Numeradas**:\n",
    "\n",
    "          ``` \n",
    "        * Primer elemento\n",
    "            *otro elemento\n",
    "        * Segundo elemento\n",
    "        * Tercer elemento\n",
    "         ```\n",
    " \n",
    "  \n",
    "   * Primer elemento\n",
    "       * otro elemento\n",
    "   * Segundo elemento\n",
    "   * Tercer elemento\n",
    "\n",
    "\n"
   ]
  },
  {
   "cell_type": "markdown",
   "metadata": {},
   "source": [
    "### Links e imágenes\n",
    "  \n",
    "Finalmente, usando este lenguaje también podemos conectar links y visualizar imágenes:\n",
    "  \n",
    "  **Links**\n",
    "  \n",
    "  `[Universidad Externado] (https://www.uexternado.edu.co/)`\n",
    "  \n",
    "  [Universidad Externado](https://www.uexternado.edu.co/ \"Universidad Externado\")\n",
    "  \n",
    "  **Imágenes**\n",
    "  \n",
    "  `![Jupyter logo](http://jupyter.org/assets/nav_logo.svg)`\n",
    "  ![Jupyter logo](http://jupyter.org/assets/nav_logo.svg)"
   ]
  },
  {
   "cell_type": "markdown",
   "metadata": {},
   "source": [
    "### Creación de encabezados en el documento\n",
    "\n",
    "Es muy útil seccionar el documento por capítulos, subcapítulos, secciones, subsecciones, entre otros. A continuación, visualizamos las formas de crear encabezados en cuadernos de jupyter:\n",
    "\n",
    "* **Encabezado 1** \n",
    " Escribimos: `# Encabezado 1` \n",
    " \n",
    " \n",
    "* **Encabezado 2**\n",
    "Escribimos: `## Encabezado 2`\n",
    "\n",
    "\n",
    "* **Encabezado 3**\n",
    " Escribimos: `### Encabezado 3`\n",
    " \n",
    " \n",
    "* **Encabezado 4**\n",
    "Escribimos: `#### Encabezado 4`\n",
    "\n",
    " \n",
    "* **Encabezado 5**\n",
    " Escribimos: `##### Encabezado 5`\n",
    " \n",
    " \n",
    "* **Encabezado 6**\n",
    " Escribimos: `###### Encabezado 6`"
   ]
  },
  {
   "cell_type": "markdown",
   "metadata": {},
   "source": [
    "## Instalación y configuración de extensiones para Jupyter\n",
    "\n",
    "Las extensiones de Jupyter nos harán la vida más fácil, algunas extensiones completaran código y nos recordaran algunas funciones que pueden llegar a ser esquivas para nuestra memoria. Así mismo tendremos vistas previas de nuestras celdas de texto, entre otras utilidades."
   ]
  },
  {
   "cell_type": "markdown",
   "metadata": {},
   "source": [
    "### Instalación\n",
    "\n",
    "Posterior a la instalación de Anaconda vale la pena instalar algunas extensiones útiles del notebook de Jupyter. Para esto cerramos todos los cuadernos activos y reiniciamos Anaconda y Jupyter.\n",
    "\n",
    "Nuevamente, en la página de inicio de Jupyter:\n",
    "\n",
    "<img src=\"https://github.com/Izainea/MCG2/blob/master/jupyterOpen.png?raw=true\" width=\"720\" >\n",
    "\n",
    "Seleccionamos `New` y luego `Terminal`:\n",
    "\n",
    "<img src=\"https://github.com/Izainea/MCG2/blob/master/Terminal.png?raw=true\">\n",
    "\n",
    "Aparecerá la siguiente ventana:\n",
    "\n",
    "<img src=\"https://github.com/Izainea/MCG2/blob/master/Terminal2.png?raw=true\">\n",
    "\n",
    "Escribimos en la consola lo siguiente:\n",
    "\n",
    "`pip install jupyter_contrib_nbextensions`\n",
    "\n",
    "Se instalará el módulo de extensiones de Jupyter. Cuando termine la instalación escribimos:\n",
    "\n",
    "`jupyter contrib nbextension install`\n",
    "\n",
    "Reiniciamos Jupyter y Anaconda.\n",
    "\n"
   ]
  },
  {
   "cell_type": "markdown",
   "metadata": {},
   "source": [
    "Al abrir nuevamente Jupyter encontraremos algunas cosas nuevas, en principio una pestaña llamada `NbExtensions`:\n",
    "\n",
    "<img src=\"https://github.com/Izainea/MCG2/blob/master/extensiones.png?raw=true\">\n",
    "\n",
    "Al ingresar llegamos a la siguiente página, quitamos el chulo del marcador indicado:\n",
    "\n",
    "<img src=\"https://github.com/Izainea/MCG2/blob/master/extensiones2.png?raw=true\">\n",
    "\n",
    "Finalmente seleccionamos las extensiones útiles para nuestros trabajos. En amarillo las sugeridas:\n",
    "\n",
    "<img src=\"https://github.com/Izainea/MCG2/blob/master/extensiones3.png?raw=true\">"
   ]
  },
  {
   "cell_type": "markdown",
   "metadata": {},
   "source": [
    "Las anteriores extensiones permiten una mejor dinámica entre creador y usuario. Se sugiere que exploren algunas otras extensiones y verifiquen los cambios en el cuaderno."
   ]
  }
 ],
 "metadata": {
  "kernelspec": {
   "display_name": "Python 3",
   "language": "python",
   "name": "python3"
  },
  "language_info": {
   "codemirror_mode": {
    "name": "ipython",
    "version": 3
   },
   "file_extension": ".py",
   "mimetype": "text/x-python",
   "name": "python",
   "nbconvert_exporter": "python",
   "pygments_lexer": "ipython3",
   "version": "3.7.4"
  },
  "latex_envs": {
   "LaTeX_envs_menu_present": true,
   "autoclose": false,
   "autocomplete": true,
   "bibliofile": "biblio.bib",
   "cite_by": "apalike",
   "current_citInitial": 1,
   "eqLabelWithNumbers": true,
   "eqNumInitial": 1,
   "hotkeys": {
    "equation": "Ctrl-E",
    "itemize": "Ctrl-I"
   },
   "labels_anchors": false,
   "latex_user_defs": false,
   "report_style_numbering": false,
   "user_envs_cfg": false
  },
  "toc": {
   "base_numbering": 1,
   "nav_menu": {
    "height": "281px",
    "width": "406px"
   },
   "number_sections": true,
   "sideBar": true,
   "skip_h1_title": true,
   "title_cell": "Métodos Cuantitativos en Gestión",
   "title_sidebar": "Métodos Cuantitativos en Gestión",
   "toc_cell": false,
   "toc_position": {
    "height": "calc(100% - 180px)",
    "left": "10px",
    "top": "150px",
    "width": "355.033px"
   },
   "toc_section_display": true,
   "toc_window_display": false
  }
 },
 "nbformat": 4,
 "nbformat_minor": 4
}
